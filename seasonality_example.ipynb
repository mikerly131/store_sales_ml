{
 "cells": [
  {
   "cell_type": "markdown",
   "id": "d509391c-becc-452f-b401-3e7a29f0fe80",
   "metadata": {},
   "source": [
    "## Learnings from Time Series, a Kaggle Course\n",
    "Seasonality - time series with regular cadence of periodic change to the mean.  \n",
    "Tend to follow calendar and clock cycles - over a day, a week, a month or a year are common.  \n",
    "Two drivers of seasonality - cycles in nature and social conventions for behavior (ex. increased consumer goods spending Thanksgiving through Christmas)"
   ]
  },
  {
   "cell_type": "markdown",
   "id": "a55d8d42-0cad-4f58-a65f-19eb2fd4fb1c",
   "metadata": {},
   "source": [
    "### Features to Model Seasonality\n",
    "Indicators - best for seasons with few observations. ex - weekly season of daily observations.  \n",
    "Fourier - best for seasons with many observations. ex - annual season of daily observations.  \n",
    "\n",
    "### Seasonal Plots\n",
    "Used to discover seasonal patterns in time series data.  \n",
    "Segments of the time series data are plotted over a common period, aka the season to observe.\n",
    "\n",
    "### Indicators\n",
    "Binary features representing differences in a time series for the season or commond period.  \n",
    "Determined by treating a season as a categorical feature and applying one-hot encoding.  \n",
    "\n",
    "#### One Hot Encoding \n",
    "Technique to represent categorical variables as numeric values. Some models can't handle categorical variables.  Examples: item sizes, genders.  \n",
    "Avoids problem of ordinality (ex: s, m l)  \n",
    "Leads to sparse data - most observations have a value of 0 in most columns in one-hot encoded data.  \n",
    "Can lead to increased dimenstionality, a separate column for each category in the variable.\n",
    "May create complex, resource intensive (aka slow to train) models\n",
    "Alternatives are binary and ordinal encoding."
   ]
  }
 ],
 "metadata": {
  "kernelspec": {
   "display_name": "Python 3 (ipykernel)",
   "language": "python",
   "name": "python3"
  },
  "language_info": {
   "codemirror_mode": {
    "name": "ipython",
    "version": 3
   },
   "file_extension": ".py",
   "mimetype": "text/x-python",
   "name": "python",
   "nbconvert_exporter": "python",
   "pygments_lexer": "ipython3",
   "version": "3.10.11"
  }
 },
 "nbformat": 4,
 "nbformat_minor": 5
}
